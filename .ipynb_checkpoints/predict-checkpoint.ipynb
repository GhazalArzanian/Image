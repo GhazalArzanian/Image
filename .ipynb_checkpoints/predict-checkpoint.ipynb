{
 "cells": [
  {
   "cell_type": "code",
   "execution_count": 1,
   "id": "c4e7006d-11d1-45e2-8a85-321167abeafd",
   "metadata": {},
   "outputs": [
    {
     "ename": "FileNotFoundError",
     "evalue": "[Errno 2] No such file or directory: '/home/ghazal-2earzanian/image/Image/cropped_enhanced/Bild9.png'",
     "output_type": "error",
     "traceback": [
      "\u001b[0;31m---------------------------------------------------------------------------\u001b[0m",
      "\u001b[0;31mFileNotFoundError\u001b[0m                         Traceback (most recent call last)",
      "Cell \u001b[0;32mIn[1], line 8\u001b[0m\n\u001b[1;32m      4\u001b[0m \u001b[38;5;28;01mimport\u001b[39;00m \u001b[38;5;21;01mnumpy\u001b[39;00m \u001b[38;5;28;01mas\u001b[39;00m \u001b[38;5;21;01mnp\u001b[39;00m\n\u001b[1;32m      6\u001b[0m model \u001b[38;5;241m=\u001b[39m YOLO(\u001b[38;5;124m'\u001b[39m\u001b[38;5;124mruns/detect/train10/weights/best.pt\u001b[39m\u001b[38;5;124m'\u001b[39m)\n\u001b[0;32m----> 8\u001b[0m im \u001b[38;5;241m=\u001b[39m \u001b[43mImage\u001b[49m\u001b[38;5;241;43m.\u001b[39;49m\u001b[43mopen\u001b[49m\u001b[43m(\u001b[49m\u001b[38;5;124;43m'\u001b[39;49m\u001b[38;5;124;43mcropped_enhanced/Bild9.png\u001b[39;49m\u001b[38;5;124;43m'\u001b[39;49m\u001b[43m)\u001b[49m\n\u001b[1;32m     10\u001b[0m results \u001b[38;5;241m=\u001b[39m model\u001b[38;5;241m.\u001b[39mpredict(source\u001b[38;5;241m=\u001b[39mim, imgsz\u001b[38;5;241m=\u001b[39m\u001b[38;5;241m640\u001b[39m, save\u001b[38;5;241m=\u001b[39m\u001b[38;5;28;01mTrue\u001b[39;00m)  \u001b[38;5;66;03m#set imgsz to 640 to match training size\u001b[39;00m\n\u001b[1;32m     11\u001b[0m image \u001b[38;5;241m=\u001b[39m cv2\u001b[38;5;241m.\u001b[39mcvtColor(np\u001b[38;5;241m.\u001b[39marray(im), cv2\u001b[38;5;241m.\u001b[39mCOLOR_RGB2BGR)\n",
      "File \u001b[0;32m/opt/conda/lib/python3.11/site-packages/PIL/Image.py:3431\u001b[0m, in \u001b[0;36mopen\u001b[0;34m(fp, mode, formats)\u001b[0m\n\u001b[1;32m   3428\u001b[0m     filename \u001b[38;5;241m=\u001b[39m os\u001b[38;5;241m.\u001b[39mpath\u001b[38;5;241m.\u001b[39mrealpath(os\u001b[38;5;241m.\u001b[39mfspath(fp))\n\u001b[1;32m   3430\u001b[0m \u001b[38;5;28;01mif\u001b[39;00m filename:\n\u001b[0;32m-> 3431\u001b[0m     fp \u001b[38;5;241m=\u001b[39m \u001b[43mbuiltins\u001b[49m\u001b[38;5;241;43m.\u001b[39;49m\u001b[43mopen\u001b[49m\u001b[43m(\u001b[49m\u001b[43mfilename\u001b[49m\u001b[43m,\u001b[49m\u001b[43m \u001b[49m\u001b[38;5;124;43m\"\u001b[39;49m\u001b[38;5;124;43mrb\u001b[39;49m\u001b[38;5;124;43m\"\u001b[39;49m\u001b[43m)\u001b[49m\n\u001b[1;32m   3432\u001b[0m     exclusive_fp \u001b[38;5;241m=\u001b[39m \u001b[38;5;28;01mTrue\u001b[39;00m\n\u001b[1;32m   3433\u001b[0m \u001b[38;5;28;01melse\u001b[39;00m:\n",
      "\u001b[0;31mFileNotFoundError\u001b[0m: [Errno 2] No such file or directory: '/home/ghazal-2earzanian/image/Image/cropped_enhanced/Bild9.png'"
     ]
    }
   ],
   "source": [
    "from ultralytics import YOLO \n",
    "from PIL import Image\n",
    "import cv2\n",
    "import numpy as np\n",
    "\n",
    "model = YOLO('runs/detect/train10/weights/best.pt')\n",
    "\n",
    "im = Image.open('cropped_enhanced/Bild9.png')\n",
    "\n",
    "results = model.predict(source=im, imgsz=640, save=True)  #set imgsz to 640 to match training size\n",
    "image = cv2.cvtColor(np.array(im), cv2.COLOR_RGB2BGR)\n",
    "\n",
    "\n",
    "detection_results = results[0]\n",
    "\n",
    "\n",
    "boxes = detection_results.boxes  #contain all detected bounding boxes\n",
    "scores = boxes.conf  #confidence scores for each detected object\n",
    "class_ids = boxes.cls  #class indices for each detected object\n",
    "\n",
    "\n",
    "class_names = detection_results.names #access the class names\n",
    "\n",
    "#annotate the image with bounding boxes and labels\n",
    "for box, score, class_id in zip(boxes.xyxy, scores, class_ids):\n",
    "    class_name = class_names[int(class_id)]  #get class name from class index\n",
    "    x1, y1, x2, y2 = map(int, box)  #convert box coordinates to integers\n",
    "    label = f'{class_name} {score:.2f}'  #create label with class name and confidence score\n",
    "    \n",
    "    #bounding box\n",
    "    cv2.rectangle(image, (x1, y1), (x2, y2), (0, 0, 255), 2)  #red bounding box\n",
    "    \n",
    "    #label above the bounding box\n",
    "    (label_width, label_height), baseline = cv2.getTextSize(label, cv2.FONT_HERSHEY_SIMPLEX, 0.5, 1)\n",
    "    cv2.rectangle(image, (x1, y1 - label_height - baseline), (x1 + label_width, y1), (0, 0, 255), -1)  #red background for text\n",
    "    cv2.putText(image, label, (x1, y1 - baseline), cv2.FONT_HERSHEY_SIMPLEX, 0.5, (255, 255, 255), 1)  #white ;abel text\n",
    "\n",
    "\n",
    "cv2.imshow('Annotated Image', image)\n",
    "cv2.waitKey(0)\n",
    "cv2.destroyAllWindows()\n",
    "\n",
    "\n",
    "print(\"Detected objects with confidence scores:\")\n",
    "for box, score, class_id in zip(boxes.xyxy, scores, class_ids):\n",
    "    class_name = class_names[int(class_id)]  #get class name from class index\n",
    "    print(f\"Class: {class_name}, Confidence: {score:.4f}, Box: {box}\")\n"
   ]
  },
  {
   "cell_type": "code",
   "execution_count": null,
   "id": "83ae1071-eddb-494d-bb28-1d626c90b11b",
   "metadata": {},
   "outputs": [],
   "source": []
  }
 ],
 "metadata": {
  "kernelspec": {
   "display_name": "Python 3 (ipykernel)",
   "language": "python",
   "name": "python3"
  },
  "language_info": {
   "codemirror_mode": {
    "name": "ipython",
    "version": 3
   },
   "file_extension": ".py",
   "mimetype": "text/x-python",
   "name": "python",
   "nbconvert_exporter": "python",
   "pygments_lexer": "ipython3",
   "version": "3.11.10"
  }
 },
 "nbformat": 4,
 "nbformat_minor": 5
}
